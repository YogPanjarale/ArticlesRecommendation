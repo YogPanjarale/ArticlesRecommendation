{
 "metadata": {
  "language_info": {
   "codemirror_mode": {
    "name": "ipython",
    "version": 3
   },
   "file_extension": ".py",
   "mimetype": "text/x-python",
   "name": "python",
   "nbconvert_exporter": "python",
   "pygments_lexer": "ipython3",
   "version": "3.9.1"
  },
  "orig_nbformat": 2,
  "kernelspec": {
   "name": "python391jvsc74a57bd063cfa557069a9a679efbe07b88cb412d19a981dda69d58c7135a4a25cea581b1",
   "display_name": "Python 3.9.1 64-bit"
  },
  "metadata": {
   "interpreter": {
    "hash": "63cfa557069a9a679efbe07b88cb412d19a981dda69d58c7135a4a25cea581b1"
   }
  }
 },
 "nbformat": 4,
 "nbformat_minor": 2,
 "cells": [
  {
   "cell_type": "code",
   "execution_count": 1,
   "metadata": {},
   "outputs": [],
   "source": [
    "import pandas as pd"
   ]
  },
  {
   "cell_type": "code",
   "execution_count": 3,
   "metadata": {},
   "outputs": [],
   "source": [
    "# data frame for shared articles\n",
    "dfs = pd.read_csv('data/shared_articles.csv')\n",
    "# data frame for user interactions\n",
    "dfu = pd.read_csv('data/users_interactions.csv')"
   ]
  },
  {
   "cell_type": "code",
   "execution_count": 4,
   "metadata": {},
   "outputs": [
    {
     "output_type": "execute_result",
     "data": {
      "text/plain": [
       "Index(['timestamp', 'eventType', 'contentId', 'authorPersonId',\n",
       "       'authorSessionId', 'authorUserAgent', 'authorRegion', 'authorCountry',\n",
       "       'contentType', 'url', 'title', 'text', 'lang'],\n",
       "      dtype='object')"
      ]
     },
     "metadata": {},
     "execution_count": 4
    }
   ],
   "source": [
    "dfs.columns"
   ]
  },
  {
   "cell_type": "code",
   "execution_count": 5,
   "metadata": {},
   "outputs": [
    {
     "output_type": "execute_result",
     "data": {
      "text/plain": [
       "Index(['timestamp', 'eventType', 'contentId', 'personId', 'sessionId',\n",
       "       'userAgent', 'userRegion', 'userCountry'],\n",
       "      dtype='object')"
      ]
     },
     "metadata": {},
     "execution_count": 5
    }
   ],
   "source": [
    "dfu.columns"
   ]
  },
  {
   "cell_type": "code",
   "execution_count": 6,
   "metadata": {},
   "outputs": [
    {
     "output_type": "execute_result",
     "data": {
      "text/plain": [
       "    timestamp eventType            contentId             personId  \\\n",
       "0  1465413032      VIEW -3499919498720038879 -8845298781299428018   \n",
       "1  1465412560      VIEW  8890720798209849691 -1032019229384696495   \n",
       "2  1465416190      VIEW   310515487419366995 -1130272294246983140   \n",
       "3  1465413895    FOLLOW   310515487419366995   344280948527967603   \n",
       "4  1465412290      VIEW -7820640624231356730  -445337111692715325   \n",
       "\n",
       "             sessionId                                          userAgent  \\\n",
       "0  1264196770339959068                                                NaN   \n",
       "1  3621737643587579081  Mozilla/5.0 (Macintosh; Intel Mac OS X 10_11_2...   \n",
       "2  2631864456530402479                                                NaN   \n",
       "3 -3167637573980064150                                                NaN   \n",
       "4  5611481178424124714                                                NaN   \n",
       "\n",
       "  userRegion userCountry  \n",
       "0        NaN         NaN  \n",
       "1         NY          US  \n",
       "2        NaN         NaN  \n",
       "3        NaN         NaN  \n",
       "4        NaN         NaN  "
      ],
      "text/html": "<div>\n<style scoped>\n    .dataframe tbody tr th:only-of-type {\n        vertical-align: middle;\n    }\n\n    .dataframe tbody tr th {\n        vertical-align: top;\n    }\n\n    .dataframe thead th {\n        text-align: right;\n    }\n</style>\n<table border=\"1\" class=\"dataframe\">\n  <thead>\n    <tr style=\"text-align: right;\">\n      <th></th>\n      <th>timestamp</th>\n      <th>eventType</th>\n      <th>contentId</th>\n      <th>personId</th>\n      <th>sessionId</th>\n      <th>userAgent</th>\n      <th>userRegion</th>\n      <th>userCountry</th>\n    </tr>\n  </thead>\n  <tbody>\n    <tr>\n      <th>0</th>\n      <td>1465413032</td>\n      <td>VIEW</td>\n      <td>-3499919498720038879</td>\n      <td>-8845298781299428018</td>\n      <td>1264196770339959068</td>\n      <td>NaN</td>\n      <td>NaN</td>\n      <td>NaN</td>\n    </tr>\n    <tr>\n      <th>1</th>\n      <td>1465412560</td>\n      <td>VIEW</td>\n      <td>8890720798209849691</td>\n      <td>-1032019229384696495</td>\n      <td>3621737643587579081</td>\n      <td>Mozilla/5.0 (Macintosh; Intel Mac OS X 10_11_2...</td>\n      <td>NY</td>\n      <td>US</td>\n    </tr>\n    <tr>\n      <th>2</th>\n      <td>1465416190</td>\n      <td>VIEW</td>\n      <td>310515487419366995</td>\n      <td>-1130272294246983140</td>\n      <td>2631864456530402479</td>\n      <td>NaN</td>\n      <td>NaN</td>\n      <td>NaN</td>\n    </tr>\n    <tr>\n      <th>3</th>\n      <td>1465413895</td>\n      <td>FOLLOW</td>\n      <td>310515487419366995</td>\n      <td>344280948527967603</td>\n      <td>-3167637573980064150</td>\n      <td>NaN</td>\n      <td>NaN</td>\n      <td>NaN</td>\n    </tr>\n    <tr>\n      <th>4</th>\n      <td>1465412290</td>\n      <td>VIEW</td>\n      <td>-7820640624231356730</td>\n      <td>-445337111692715325</td>\n      <td>5611481178424124714</td>\n      <td>NaN</td>\n      <td>NaN</td>\n      <td>NaN</td>\n    </tr>\n  </tbody>\n</table>\n</div>"
     },
     "metadata": {},
     "execution_count": 6
    }
   ],
   "source": [
    "dfu.head()"
   ]
  },
  {
   "cell_type": "code",
   "execution_count": 9,
   "metadata": {},
   "outputs": [
    {
     "output_type": "execute_result",
     "data": {
      "text/plain": [
       "    timestamp        eventType            contentId       authorPersonId  \\\n",
       "0  1459192779  CONTENT REMOVED -6451309518266745024  4340306774493623681   \n",
       "1  1459193988   CONTENT SHARED -4110354420726924665  4340306774493623681   \n",
       "\n",
       "       authorSessionId authorUserAgent authorRegion authorCountry contentType  \\\n",
       "0  8940341205206233829             NaN          NaN           NaN        HTML   \n",
       "1  8940341205206233829             NaN          NaN           NaN        HTML   \n",
       "\n",
       "                                                 url  \\\n",
       "0  http://www.nytimes.com/2016/03/28/business/dea...   \n",
       "1  http://www.nytimes.com/2016/03/28/business/dea...   \n",
       "\n",
       "                                               title  \\\n",
       "0  Ethereum, a Virtual Currency, Enables Transact...   \n",
       "1  Ethereum, a Virtual Currency, Enables Transact...   \n",
       "\n",
       "                                                text lang  \n",
       "0  All of this work is still very early. The firs...   en  \n",
       "1  All of this work is still very early. The firs...   en  "
      ],
      "text/html": "<div>\n<style scoped>\n    .dataframe tbody tr th:only-of-type {\n        vertical-align: middle;\n    }\n\n    .dataframe tbody tr th {\n        vertical-align: top;\n    }\n\n    .dataframe thead th {\n        text-align: right;\n    }\n</style>\n<table border=\"1\" class=\"dataframe\">\n  <thead>\n    <tr style=\"text-align: right;\">\n      <th></th>\n      <th>timestamp</th>\n      <th>eventType</th>\n      <th>contentId</th>\n      <th>authorPersonId</th>\n      <th>authorSessionId</th>\n      <th>authorUserAgent</th>\n      <th>authorRegion</th>\n      <th>authorCountry</th>\n      <th>contentType</th>\n      <th>url</th>\n      <th>title</th>\n      <th>text</th>\n      <th>lang</th>\n    </tr>\n  </thead>\n  <tbody>\n    <tr>\n      <th>0</th>\n      <td>1459192779</td>\n      <td>CONTENT REMOVED</td>\n      <td>-6451309518266745024</td>\n      <td>4340306774493623681</td>\n      <td>8940341205206233829</td>\n      <td>NaN</td>\n      <td>NaN</td>\n      <td>NaN</td>\n      <td>HTML</td>\n      <td>http://www.nytimes.com/2016/03/28/business/dea...</td>\n      <td>Ethereum, a Virtual Currency, Enables Transact...</td>\n      <td>All of this work is still very early. The firs...</td>\n      <td>en</td>\n    </tr>\n    <tr>\n      <th>1</th>\n      <td>1459193988</td>\n      <td>CONTENT SHARED</td>\n      <td>-4110354420726924665</td>\n      <td>4340306774493623681</td>\n      <td>8940341205206233829</td>\n      <td>NaN</td>\n      <td>NaN</td>\n      <td>NaN</td>\n      <td>HTML</td>\n      <td>http://www.nytimes.com/2016/03/28/business/dea...</td>\n      <td>Ethereum, a Virtual Currency, Enables Transact...</td>\n      <td>All of this work is still very early. The firs...</td>\n      <td>en</td>\n    </tr>\n  </tbody>\n</table>\n</div>"
     },
     "metadata": {},
     "execution_count": 9
    }
   ],
   "source": [
    "dfs.head(2)"
   ]
  },
  {
   "cell_type": "code",
   "execution_count": 11,
   "metadata": {},
   "outputs": [
    {
     "output_type": "execute_result",
     "data": {
      "text/plain": [
       "   timestamp_x      eventType_x            contentId       authorPersonId  \\\n",
       "0   1459192779  CONTENT REMOVED -6451309518266745024  4340306774493623681   \n",
       "1   1459192779  CONTENT REMOVED -6451309518266745024  4340306774493623681   \n",
       "2   1459192779  CONTENT REMOVED -6451309518266745024  4340306774493623681   \n",
       "\n",
       "       authorSessionId authorUserAgent authorRegion authorCountry contentType  \\\n",
       "0  8940341205206233829             NaN          NaN           NaN        HTML   \n",
       "1  8940341205206233829             NaN          NaN           NaN        HTML   \n",
       "2  8940341205206233829             NaN          NaN           NaN        HTML   \n",
       "\n",
       "                                                 url  \\\n",
       "0  http://www.nytimes.com/2016/03/28/business/dea...   \n",
       "1  http://www.nytimes.com/2016/03/28/business/dea...   \n",
       "2  http://www.nytimes.com/2016/03/28/business/dea...   \n",
       "\n",
       "                                               title  \\\n",
       "0  Ethereum, a Virtual Currency, Enables Transact...   \n",
       "1  Ethereum, a Virtual Currency, Enables Transact...   \n",
       "2  Ethereum, a Virtual Currency, Enables Transact...   \n",
       "\n",
       "                                                text lang  timestamp_y  \\\n",
       "0  All of this work is still very early. The firs...   en   1459192561   \n",
       "1  All of this work is still very early. The firs...   en   1459192667   \n",
       "2  All of this work is still very early. The firs...   en   1459164960   \n",
       "\n",
       "  eventType_y             personId            sessionId  \\\n",
       "0        VIEW  4340306774493623681  8940341205206233829   \n",
       "1        VIEW  4340306774493623681  8940341205206233829   \n",
       "2        VIEW -1578287561410088674  2811329017818501696   \n",
       "\n",
       "                                           userAgent userRegion userCountry  \n",
       "0  Mozilla/5.0 (Macintosh; Intel Mac OS X 10_10_5...         SP          BR  \n",
       "1  Mozilla/5.0 (Macintosh; Intel Mac OS X 10_10_5...         SP          BR  \n",
       "2  Mozilla/5.0 (Macintosh; Intel Mac OS X 10_11_4...         SP          BR  "
      ],
      "text/html": "<div>\n<style scoped>\n    .dataframe tbody tr th:only-of-type {\n        vertical-align: middle;\n    }\n\n    .dataframe tbody tr th {\n        vertical-align: top;\n    }\n\n    .dataframe thead th {\n        text-align: right;\n    }\n</style>\n<table border=\"1\" class=\"dataframe\">\n  <thead>\n    <tr style=\"text-align: right;\">\n      <th></th>\n      <th>timestamp_x</th>\n      <th>eventType_x</th>\n      <th>contentId</th>\n      <th>authorPersonId</th>\n      <th>authorSessionId</th>\n      <th>authorUserAgent</th>\n      <th>authorRegion</th>\n      <th>authorCountry</th>\n      <th>contentType</th>\n      <th>url</th>\n      <th>title</th>\n      <th>text</th>\n      <th>lang</th>\n      <th>timestamp_y</th>\n      <th>eventType_y</th>\n      <th>personId</th>\n      <th>sessionId</th>\n      <th>userAgent</th>\n      <th>userRegion</th>\n      <th>userCountry</th>\n    </tr>\n  </thead>\n  <tbody>\n    <tr>\n      <th>0</th>\n      <td>1459192779</td>\n      <td>CONTENT REMOVED</td>\n      <td>-6451309518266745024</td>\n      <td>4340306774493623681</td>\n      <td>8940341205206233829</td>\n      <td>NaN</td>\n      <td>NaN</td>\n      <td>NaN</td>\n      <td>HTML</td>\n      <td>http://www.nytimes.com/2016/03/28/business/dea...</td>\n      <td>Ethereum, a Virtual Currency, Enables Transact...</td>\n      <td>All of this work is still very early. The firs...</td>\n      <td>en</td>\n      <td>1459192561</td>\n      <td>VIEW</td>\n      <td>4340306774493623681</td>\n      <td>8940341205206233829</td>\n      <td>Mozilla/5.0 (Macintosh; Intel Mac OS X 10_10_5...</td>\n      <td>SP</td>\n      <td>BR</td>\n    </tr>\n    <tr>\n      <th>1</th>\n      <td>1459192779</td>\n      <td>CONTENT REMOVED</td>\n      <td>-6451309518266745024</td>\n      <td>4340306774493623681</td>\n      <td>8940341205206233829</td>\n      <td>NaN</td>\n      <td>NaN</td>\n      <td>NaN</td>\n      <td>HTML</td>\n      <td>http://www.nytimes.com/2016/03/28/business/dea...</td>\n      <td>Ethereum, a Virtual Currency, Enables Transact...</td>\n      <td>All of this work is still very early. The firs...</td>\n      <td>en</td>\n      <td>1459192667</td>\n      <td>VIEW</td>\n      <td>4340306774493623681</td>\n      <td>8940341205206233829</td>\n      <td>Mozilla/5.0 (Macintosh; Intel Mac OS X 10_10_5...</td>\n      <td>SP</td>\n      <td>BR</td>\n    </tr>\n    <tr>\n      <th>2</th>\n      <td>1459192779</td>\n      <td>CONTENT REMOVED</td>\n      <td>-6451309518266745024</td>\n      <td>4340306774493623681</td>\n      <td>8940341205206233829</td>\n      <td>NaN</td>\n      <td>NaN</td>\n      <td>NaN</td>\n      <td>HTML</td>\n      <td>http://www.nytimes.com/2016/03/28/business/dea...</td>\n      <td>Ethereum, a Virtual Currency, Enables Transact...</td>\n      <td>All of this work is still very early. The firs...</td>\n      <td>en</td>\n      <td>1459164960</td>\n      <td>VIEW</td>\n      <td>-1578287561410088674</td>\n      <td>2811329017818501696</td>\n      <td>Mozilla/5.0 (Macintosh; Intel Mac OS X 10_11_4...</td>\n      <td>SP</td>\n      <td>BR</td>\n    </tr>\n  </tbody>\n</table>\n</div>"
     },
     "metadata": {},
     "execution_count": 11
    }
   ],
   "source": [
    "df = dfs.merge(dfu,on='contentId')\n",
    "df.head(3)"
   ]
  }
 ]
}