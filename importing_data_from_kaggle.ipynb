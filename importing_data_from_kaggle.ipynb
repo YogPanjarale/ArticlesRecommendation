{
 "metadata": {
  "language_info": {
   "codemirror_mode": {
    "name": "ipython",
    "version": 3
   },
   "file_extension": ".py",
   "mimetype": "text/x-python",
   "name": "python",
   "nbconvert_exporter": "python",
   "pygments_lexer": "ipython3",
   "version": "3.9.1"
  },
  "orig_nbformat": 4,
  "kernelspec": {
   "name": "python3",
   "display_name": "Python 3.9.1 64-bit"
  },
  "interpreter": {
   "hash": "63cfa557069a9a679efbe07b88cb412d19a981dda69d58c7135a4a25cea581b1"
  }
 },
 "nbformat": 4,
 "nbformat_minor": 2,
 "cells": [
  {
   "cell_type": "code",
   "execution_count": 35,
   "metadata": {},
   "outputs": [],
   "source": [
    "import pandas as pd"
   ]
  },
  {
   "cell_type": "code",
   "execution_count": 36,
   "metadata": {},
   "outputs": [],
   "source": [
    "# data frame for shared articles\n",
    "dfs = pd.read_csv('data/shared_articles.csv')\n",
    "# data frame for user interactions\n",
    "dfu = pd.read_csv('data/users_interactions.csv')"
   ]
  },
  {
   "cell_type": "code",
   "execution_count": 37,
   "metadata": {},
   "outputs": [
    {
     "output_type": "execute_result",
     "data": {
      "text/plain": [
       "{'CONTENT REMOVED', 'CONTENT SHARED'}"
      ]
     },
     "metadata": {},
     "execution_count": 37
    }
   ],
   "source": [
    "set(dfs[\"eventType\"].to_list())"
   ]
  },
  {
   "cell_type": "code",
   "execution_count": 38,
   "metadata": {},
   "outputs": [
    {
     "output_type": "execute_result",
     "data": {
      "text/plain": [
       "{'CONTENT SHARED'}"
      ]
     },
     "metadata": {},
     "execution_count": 38
    }
   ],
   "source": [
    "# remove articles with eventType as \"CONTENT SHARED\"\r\n",
    "dfs= dfs[dfs.eventType ==\"CONTENT SHARED\"]\r\n",
    "set(dfs[\"eventType\"].to_list())\r\n"
   ]
  },
  {
   "cell_type": "code",
   "execution_count": 39,
   "metadata": {},
   "outputs": [
    {
     "output_type": "execute_result",
     "data": {
      "text/plain": [
       "{'BOOKMARK', 'COMMENT CREATED', 'FOLLOW', 'LIKE', 'VIEW'}"
      ]
     },
     "metadata": {},
     "execution_count": 39
    }
   ],
   "source": [
    "# getting eventType for user interactions\n",
    "set(dfu[\"eventType\"].to_list())"
   ]
  },
  {
   "cell_type": "code",
   "execution_count": 40,
   "metadata": {
    "tags": []
   },
   "outputs": [],
   "source": [
    "# dfu= dfu.head(10)\n",
    "content_type_and_value={}\n",
    "def countSum(i):\n",
    "    eventType=i['eventType']\n",
    "    iid = i['contentId']\n",
    "    if content_type_and_value.get(iid):\n",
    "        content_type_and_value[iid]+=1\n",
    "    else:\n",
    "        content_type_and_value[iid]=1\n",
    "my_list = dfu.apply(countSum,axis=1)"
   ]
  },
  {
   "cell_type": "code",
   "execution_count": 43,
   "metadata": {},
   "outputs": [
    {
     "output_type": "execute_result",
     "data": {
      "text/plain": [
       "    timestamp       eventType            contentId       authorPersonId  \\\n",
       "1  1459193988  CONTENT SHARED -4110354420726924665  4340306774493623681   \n",
       "2  1459194146  CONTENT SHARED -7292285110016212249  4340306774493623681   \n",
       "3  1459194474  CONTENT SHARED -6151852268067518688  3891637997717104548   \n",
       "4  1459194497  CONTENT SHARED  2448026894306402386  4340306774493623681   \n",
       "5  1459194522  CONTENT SHARED -2826566343807132236  4340306774493623681   \n",
       "\n",
       "       authorSessionId authorUserAgent authorRegion authorCountry contentType  \\\n",
       "1  8940341205206233829             NaN          NaN           NaN        HTML   \n",
       "2  8940341205206233829             NaN          NaN           NaN        HTML   \n",
       "3 -1457532940883382585             NaN          NaN           NaN        HTML   \n",
       "4  8940341205206233829             NaN          NaN           NaN        HTML   \n",
       "5  8940341205206233829             NaN          NaN           NaN        HTML   \n",
       "\n",
       "                                                 url  \\\n",
       "1  http://www.nytimes.com/2016/03/28/business/dea...   \n",
       "2  http://cointelegraph.com/news/bitcoin-future-w...   \n",
       "3  https://cloudplatform.googleblog.com/2016/03/G...   \n",
       "4  https://bitcoinmagazine.com/articles/ibm-wants...   \n",
       "5  http://www.coindesk.com/ieee-blockchain-oxford...   \n",
       "\n",
       "                                               title  \\\n",
       "1  Ethereum, a Virtual Currency, Enables Transact...   \n",
       "2  Bitcoin Future: When GBPcoin of Branson Wins O...   \n",
       "3                       Google Data Center 360° Tour   \n",
       "4  IBM Wants to \"Evolve the Internet\" With Blockc...   \n",
       "5  IEEE to Talk Blockchain at Cloud Computing Oxf...   \n",
       "\n",
       "                                                text lang  total_events  \n",
       "1  All of this work is still very early. The firs...   en           1.0  \n",
       "2  The alarm clock wakes me at 8:00 with stream o...   en           1.0  \n",
       "3  We're excited to share the Google Data Center ...   en          13.0  \n",
       "4  The Aite Group projects the blockchain market ...   en           NaN  \n",
       "5  One of the largest and oldest organizations fo...   en           2.0  "
      ],
      "text/html": "<div>\n<style scoped>\n    .dataframe tbody tr th:only-of-type {\n        vertical-align: middle;\n    }\n\n    .dataframe tbody tr th {\n        vertical-align: top;\n    }\n\n    .dataframe thead th {\n        text-align: right;\n    }\n</style>\n<table border=\"1\" class=\"dataframe\">\n  <thead>\n    <tr style=\"text-align: right;\">\n      <th></th>\n      <th>timestamp</th>\n      <th>eventType</th>\n      <th>contentId</th>\n      <th>authorPersonId</th>\n      <th>authorSessionId</th>\n      <th>authorUserAgent</th>\n      <th>authorRegion</th>\n      <th>authorCountry</th>\n      <th>contentType</th>\n      <th>url</th>\n      <th>title</th>\n      <th>text</th>\n      <th>lang</th>\n      <th>total_events</th>\n    </tr>\n  </thead>\n  <tbody>\n    <tr>\n      <th>1</th>\n      <td>1459193988</td>\n      <td>CONTENT SHARED</td>\n      <td>-4110354420726924665</td>\n      <td>4340306774493623681</td>\n      <td>8940341205206233829</td>\n      <td>NaN</td>\n      <td>NaN</td>\n      <td>NaN</td>\n      <td>HTML</td>\n      <td>http://www.nytimes.com/2016/03/28/business/dea...</td>\n      <td>Ethereum, a Virtual Currency, Enables Transact...</td>\n      <td>All of this work is still very early. The firs...</td>\n      <td>en</td>\n      <td>1.0</td>\n    </tr>\n    <tr>\n      <th>2</th>\n      <td>1459194146</td>\n      <td>CONTENT SHARED</td>\n      <td>-7292285110016212249</td>\n      <td>4340306774493623681</td>\n      <td>8940341205206233829</td>\n      <td>NaN</td>\n      <td>NaN</td>\n      <td>NaN</td>\n      <td>HTML</td>\n      <td>http://cointelegraph.com/news/bitcoin-future-w...</td>\n      <td>Bitcoin Future: When GBPcoin of Branson Wins O...</td>\n      <td>The alarm clock wakes me at 8:00 with stream o...</td>\n      <td>en</td>\n      <td>1.0</td>\n    </tr>\n    <tr>\n      <th>3</th>\n      <td>1459194474</td>\n      <td>CONTENT SHARED</td>\n      <td>-6151852268067518688</td>\n      <td>3891637997717104548</td>\n      <td>-1457532940883382585</td>\n      <td>NaN</td>\n      <td>NaN</td>\n      <td>NaN</td>\n      <td>HTML</td>\n      <td>https://cloudplatform.googleblog.com/2016/03/G...</td>\n      <td>Google Data Center 360° Tour</td>\n      <td>We're excited to share the Google Data Center ...</td>\n      <td>en</td>\n      <td>13.0</td>\n    </tr>\n    <tr>\n      <th>4</th>\n      <td>1459194497</td>\n      <td>CONTENT SHARED</td>\n      <td>2448026894306402386</td>\n      <td>4340306774493623681</td>\n      <td>8940341205206233829</td>\n      <td>NaN</td>\n      <td>NaN</td>\n      <td>NaN</td>\n      <td>HTML</td>\n      <td>https://bitcoinmagazine.com/articles/ibm-wants...</td>\n      <td>IBM Wants to \"Evolve the Internet\" With Blockc...</td>\n      <td>The Aite Group projects the blockchain market ...</td>\n      <td>en</td>\n      <td>NaN</td>\n    </tr>\n    <tr>\n      <th>5</th>\n      <td>1459194522</td>\n      <td>CONTENT SHARED</td>\n      <td>-2826566343807132236</td>\n      <td>4340306774493623681</td>\n      <td>8940341205206233829</td>\n      <td>NaN</td>\n      <td>NaN</td>\n      <td>NaN</td>\n      <td>HTML</td>\n      <td>http://www.coindesk.com/ieee-blockchain-oxford...</td>\n      <td>IEEE to Talk Blockchain at Cloud Computing Oxf...</td>\n      <td>One of the largest and oldest organizations fo...</td>\n      <td>en</td>\n      <td>2.0</td>\n    </tr>\n  </tbody>\n</table>\n</div>"
     },
     "metadata": {},
     "execution_count": 43
    }
   ],
   "source": [
    "def getActions(i):\n",
    "    iid = i['contentId']\n",
    "    return content_type_and_value.get(iid)\n",
    "dfs['total_events']=dfs.apply(getActions,axis=1)\n",
    "dfs.head()"
   ]
  }
 ]
}