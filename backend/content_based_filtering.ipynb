{
 "metadata": {
  "language_info": {
   "codemirror_mode": {
    "name": "ipython",
    "version": 3
   },
   "file_extension": ".py",
   "mimetype": "text/x-python",
   "name": "python",
   "nbconvert_exporter": "python",
   "pygments_lexer": "ipython3",
   "version": "3.9.1"
  },
  "orig_nbformat": 4,
  "kernelspec": {
   "name": "python3",
   "display_name": "Python 3.9.1 64-bit"
  },
  "interpreter": {
   "hash": "63cfa557069a9a679efbe07b88cb412d19a981dda69d58c7135a4a25cea581b1"
  }
 },
 "nbformat": 4,
 "nbformat_minor": 2,
 "cells": [
  {
   "cell_type": "code",
   "execution_count": 15,
   "metadata": {},
   "outputs": [],
   "source": [
    "import pandas as pd"
   ]
  },
  {
   "cell_type": "code",
   "execution_count": 16,
   "metadata": {},
   "outputs": [],
   "source": [
    "df = pd.read_csv(\"demographic.csv\")"
   ]
  },
  {
   "cell_type": "code",
   "execution_count": 17,
   "metadata": {},
   "outputs": [
    {
     "output_type": "execute_result",
     "data": {
      "text/plain": [
       "                                               title lang\n",
       "0  Former Google career coach shares a visual tri...   en\n",
       "1  Novo workaholic trabalha, pratica esportes e t...   pt\n",
       "2                   Livro: Retrospectivas Divertidas   pt\n",
       "3               Pull request first - Practical Blend   en\n",
       "4  Ganhe 6 meses de acesso ao Pluralsight, maior ...   pt"
      ],
      "text/html": "<div>\n<style scoped>\n    .dataframe tbody tr th:only-of-type {\n        vertical-align: middle;\n    }\n\n    .dataframe tbody tr th {\n        vertical-align: top;\n    }\n\n    .dataframe thead th {\n        text-align: right;\n    }\n</style>\n<table border=\"1\" class=\"dataframe\">\n  <thead>\n    <tr style=\"text-align: right;\">\n      <th></th>\n      <th>title</th>\n      <th>lang</th>\n    </tr>\n  </thead>\n  <tbody>\n    <tr>\n      <th>0</th>\n      <td>Former Google career coach shares a visual tri...</td>\n      <td>en</td>\n    </tr>\n    <tr>\n      <th>1</th>\n      <td>Novo workaholic trabalha, pratica esportes e t...</td>\n      <td>pt</td>\n    </tr>\n    <tr>\n      <th>2</th>\n      <td>Livro: Retrospectivas Divertidas</td>\n      <td>pt</td>\n    </tr>\n    <tr>\n      <th>3</th>\n      <td>Pull request first - Practical Blend</td>\n      <td>en</td>\n    </tr>\n    <tr>\n      <th>4</th>\n      <td>Ganhe 6 meses de acesso ao Pluralsight, maior ...</td>\n      <td>pt</td>\n    </tr>\n  </tbody>\n</table>\n</div>"
     },
     "metadata": {},
     "execution_count": 17
    }
   ],
   "source": [
    "df[['title','lang']].head()"
   ]
  },
  {
   "cell_type": "code",
   "execution_count": 18,
   "metadata": {},
   "outputs": [],
   "source": [
    "def to_lower_case(item):\n",
    "    return str.lower(item.replace(\" \",\" \"))\n",
    "df['meta_title']= df['title'].apply(to_lower_case)"
   ]
  },
  {
   "cell_type": "code",
   "execution_count": 19,
   "metadata": {},
   "outputs": [
    {
     "output_type": "execute_result",
     "data": {
      "text/plain": [
       "                                               title lang  \\\n",
       "0  Former Google career coach shares a visual tri...   en   \n",
       "1  Novo workaholic trabalha, pratica esportes e t...   pt   \n",
       "2                   Livro: Retrospectivas Divertidas   pt   \n",
       "3               Pull request first - Practical Blend   en   \n",
       "4  Ganhe 6 meses de acesso ao Pluralsight, maior ...   pt   \n",
       "\n",
       "                                          meta_title  \n",
       "0  former google career coach shares a visual tri...  \n",
       "1  novo workaholic trabalha, pratica esportes e t...  \n",
       "2                   livro: retrospectivas divertidas  \n",
       "3               pull request first - practical blend  \n",
       "4  ganhe 6 meses de acesso ao pluralsight, maior ...  "
      ],
      "text/html": "<div>\n<style scoped>\n    .dataframe tbody tr th:only-of-type {\n        vertical-align: middle;\n    }\n\n    .dataframe tbody tr th {\n        vertical-align: top;\n    }\n\n    .dataframe thead th {\n        text-align: right;\n    }\n</style>\n<table border=\"1\" class=\"dataframe\">\n  <thead>\n    <tr style=\"text-align: right;\">\n      <th></th>\n      <th>title</th>\n      <th>lang</th>\n      <th>meta_title</th>\n    </tr>\n  </thead>\n  <tbody>\n    <tr>\n      <th>0</th>\n      <td>Former Google career coach shares a visual tri...</td>\n      <td>en</td>\n      <td>former google career coach shares a visual tri...</td>\n    </tr>\n    <tr>\n      <th>1</th>\n      <td>Novo workaholic trabalha, pratica esportes e t...</td>\n      <td>pt</td>\n      <td>novo workaholic trabalha, pratica esportes e t...</td>\n    </tr>\n    <tr>\n      <th>2</th>\n      <td>Livro: Retrospectivas Divertidas</td>\n      <td>pt</td>\n      <td>livro: retrospectivas divertidas</td>\n    </tr>\n    <tr>\n      <th>3</th>\n      <td>Pull request first - Practical Blend</td>\n      <td>en</td>\n      <td>pull request first - practical blend</td>\n    </tr>\n    <tr>\n      <th>4</th>\n      <td>Ganhe 6 meses de acesso ao Pluralsight, maior ...</td>\n      <td>pt</td>\n      <td>ganhe 6 meses de acesso ao pluralsight, maior ...</td>\n    </tr>\n  </tbody>\n</table>\n</div>"
     },
     "metadata": {},
     "execution_count": 19
    }
   ],
   "source": [
    "df[['title','lang','meta_title']].head()"
   ]
  },
  {
   "cell_type": "code",
   "execution_count": 20,
   "metadata": {},
   "outputs": [],
   "source": [
    "df['soup']=df['meta_title']"
   ]
  },
  {
   "cell_type": "code",
   "execution_count": 21,
   "metadata": {},
   "outputs": [],
   "source": [
    "from sklearn.feature_extraction.text import  CountVectorizer\n",
    "counter = CountVectorizer(stop_words='english')\n",
    "filtered = counter.fit_transform(df['soup'])"
   ]
  },
  {
   "cell_type": "code",
   "execution_count": 22,
   "metadata": {},
   "outputs": [],
   "source": [
    "from sklearn.metrics.pairwise import cosine_similarity\n",
    "c1 = cosine_similarity(filtered,filtered)"
   ]
  },
  {
   "cell_type": "code",
   "execution_count": 23,
   "metadata": {},
   "outputs": [],
   "source": [
    "df = df.reset_index()\n",
    "indices = pd.Series(df.index,index=df['title'])"
   ]
  },
  {
   "cell_type": "code",
   "execution_count": 24,
   "metadata": {},
   "outputs": [],
   "source": [
    "def getRecommendation(title,c1=c1):\n",
    "    idx = indices[title]\n",
    "    print(idx)\n",
    "    score = list(enumerate(c1[idx]))\n",
    "    score= sorted(score,key=lambda x:x[1],reverse=True)\n",
    "    score = score[1:11]\n",
    "    movie_index=[i[0] for i in score]\n",
    "    return df['title'].iloc[movie_index]"
   ]
  },
  {
   "cell_type": "code",
   "execution_count": 25,
   "metadata": {},
   "outputs": [
    {
     "output_type": "stream",
     "name": "stdout",
     "text": [
      "2978\n"
     ]
    },
    {
     "output_type": "execute_result",
     "data": {
      "text/plain": [
       "1881    Microsoft Continues to Embrace Ethereum & Bitc...\n",
       "2793    Ethereum and Bitcoin Are Market Leaders But No...\n",
       "759     Bitcoin Accepted! German Energy Giant Enables ...\n",
       "1968                                 Bitcoin / Blockchain\n",
       "1162    The price of Ether, a bitcoin rival, is soarin...\n",
       "2329    Five Bitcoin and Ethereum Based Projects to Wa...\n",
       "1172    Blockchain open sources Thunder network, pavin...\n",
       "2850    EB124 - Rune Christensen: Maker Dao Ethereum's...\n",
       "2815    Why Decentralized Conglomerates Will Scale Bet...\n",
       "1663    Bitcoin Mining, Ethereum Mining, Cloud Mining:...\n",
       "Name: title, dtype: object"
      ]
     },
     "metadata": {},
     "execution_count": 25
    }
   ],
   "source": [
    "getRecommendation(\"Ethereum, a Virtual Currency, Enables Transactions That Rival Bitcoin's\")"
   ]
  }
 ]
}